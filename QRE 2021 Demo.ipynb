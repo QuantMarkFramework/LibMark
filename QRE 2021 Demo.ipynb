{
 "cells": [
  {
   "cell_type": "markdown",
   "id": "9fdc0327",
   "metadata": {},
   "source": [
    "# Quantum Resource Estimation 2021 Demo\n",
    "This file contains example code and explanation of the Quantmark VQE benchmarking framework with annotation of how it works now, and what we want to add in the future.\n",
    "\n",
    "DISCLAIMER: The package is still in very active development and might not work on every device. This demo is meant as a show of progress and is not yet ready for use."
   ]
  },
  {
   "cell_type": "markdown",
   "id": "09abb98a",
   "metadata": {},
   "source": [
    "### Add package to PYTHONPATH"
   ]
  },
  {
   "cell_type": "markdown",
   "id": "b6b3bbea",
   "metadata": {},
   "source": [
    "The package does not yet have an installer, so let's just add it to our path for now."
   ]
  },
  {
   "cell_type": "code",
   "execution_count": null,
   "id": "0f7f161f",
   "metadata": {},
   "outputs": [],
   "source": [
    "import os, sys\n",
    "\n",
    "sys.path.append(os.getcwd())"
   ]
  },
  {
   "cell_type": "markdown",
   "id": "715406ca",
   "metadata": {},
   "source": [
    "### Imports"
   ]
  },
  {
   "cell_type": "code",
   "execution_count": null,
   "id": "6f616029",
   "metadata": {},
   "outputs": [],
   "source": [
    "from quantmark import QuantMarkResult\n",
    "from quantmark.tracker import get_tracker\n",
    "import tequila as tq\n",
    "import numpy as np\n",
    "import matplotlib.pyplot as plt\n",
    "import itertools"
   ]
  },
  {
   "cell_type": "markdown",
   "id": "b330cc66",
   "metadata": {},
   "source": [
    "# Create hydrogen molecule\n",
    "Other molecules works in a similar fashion. We focus on hydrogen for now since this is a demo.\n",
    "\n",
    "We use the Tequila library for representing the molecule, because it works together with various established libraries and it allows us to abstract away from the chemical details of VQE and focus on the algorithmic structure. \n",
    "\n",
    "Moreover, it gives us a unified representation of the molecules, hamiltonians, circuits, and optimizers, such that identifying the difference between various VQE algorithms is more easily identified."
   ]
  },
  {
   "cell_type": "code",
   "execution_count": null,
   "id": "b44e9dbc",
   "metadata": {},
   "outputs": [],
   "source": [
    "def create_H2(R, **kwargs): \n",
    "    geometry = f'H 0.0 0.0 0.0\\nH 0.0 0.0 {R}'\n",
    "    return tq.chemistry.Molecule(geometry=geometry, **kwargs)"
   ]
  },
  {
   "cell_type": "markdown",
   "id": "dc54aa4e",
   "metadata": {},
   "source": [
    "# Defining the 4 experiments\n",
    "Next, we define the parameters we use for our experiments. We want to test 2 basis_sets and 2 transformations. With the chosen configurations, we will obtain circuits with different amounts of qubits for the hydrogen molecules. \n",
    "\n",
    "The idea is that the real-world molecule with bond distance `r` should have a particular amount of energy, regardless of our choice of basis set or transformation. However, our choices will result in 2, 4, 6, or 8 qubits, depending on the choices made. This results in a different circuit and thus a different VQE result, eventhough the molecule that is being simulated is exactly the same."
   ]
  },
  {
   "cell_type": "code",
   "execution_count": null,
   "id": "b03aef43",
   "metadata": {},
   "outputs": [],
   "source": [
    "# Create the molecules\n",
    "basis_sets = [\"sto-3g\", \"6-31g\"]\n",
    "transformations = [\"bravyi-kitaev\", \"tapered_bravyi_kitaev\"]\n",
    "step = 0.1\n",
    "molecular_distances = np.arange(.0 + step, 1.5 + step, step)"
   ]
  },
  {
   "cell_type": "code",
   "execution_count": null,
   "id": "004f1825",
   "metadata": {},
   "outputs": [],
   "source": [
    "molecules = {\" \".join([bs, tf]):[create_H2(r, basis_set=bs, transformation=tf) for r in molecular_distances] \n",
    "             for bs, tf in itertools.product(basis_sets, transformations)}"
   ]
  },
  {
   "cell_type": "markdown",
   "id": "bb123416",
   "metadata": {},
   "source": [
    "# Calculating baseline energies\n",
    "Each choice of basis set results in a slightly different energy curve for the same hydrogen molecule. This is because some basis sets describe all the interacting factors within the molecule more accurately than others. Of course, a more detailed description would result in more classical compute time and possibly more qubits on the system, hence most research is done using `STO-3G` since that basis set can be represented with the least qubits.\n",
    "\n",
    "For fair comparisons of any VQE algorithm simulating the same molecule, we define a \"gold standard\" baseline. This is the energy curve that would be obtained with the most accurate classical numerical method currently available. This is not just the `fci` method for taking into account the full configuration interaction between the particles in the molecule, but also the most accurate basis set (we found `\"def2-QZVPPD\"`, please let me know if there is something better). Moreover, the baseline will consider the full active space of the molecule, so the core remains unfrozen and no electrons are ignored.\n",
    "\n",
    "Ofcourse, this doesn't give enough insight into how the VQE is performing with respect its classical counter part because the VQE is probably using a completely different basis set that is much less accurate. For this purpuse, we also introduce the `experiment_truth`, this is the `fci` energy of the same molecule under the same restrictions as the VQE (i.e. the same basis_set, active space, etc.). This is the theoretical optimum of the VQE performance. If it needs to be more accurate, you would need a different basis_set or more qubits to represent all the electrons.\n",
    "\n",
    "Lastly, we want to introduce an upperbound for the VQE performance where we can say for certain that the algorithm is performing poorly. For this, we use the `hf` method. The Hartree-fock method for calculating the molecular energy is a rather crude approximation of the energy that only takes into account a single slater determinant. As such, it doesn't take into account the interactions between the electrons in the molecule, which makes the calculations much simpler numerically, but the resulting energy is not very accurately. A good VQE algorithm should at least be able to take into account the interactions between electrons. We call this baseline the `experiment_approximation` and it is the same as the experiment_truth except that is using Hartree-Fock instead of the full configuration interaction as numerical method.\n",
    "\n",
    "The current plan is to calculate these baselines on the server side."
   ]
  },
  {
   "cell_type": "code",
   "execution_count": null,
   "id": "8bb38ae1",
   "metadata": {},
   "outputs": [],
   "source": [
    "def gold_standard(distances):\n",
    "    return baseline(distances, \"def2-QZVPPD\")\n",
    "    \n",
    "def baseline(distances, basis_set, numerical_method=\"fci\"):\n",
    "    return [create_H2(r, basis_set=basis_set).compute_energy(numerical_method) for r in distances]"
   ]
  },
  {
   "cell_type": "code",
   "execution_count": null,
   "id": "80f3f1bd",
   "metadata": {},
   "outputs": [],
   "source": [
    "ground_truth = gold_standard(molecular_distances)\n",
    "ground_truth"
   ]
  },
  {
   "cell_type": "code",
   "execution_count": null,
   "id": "ce056b4e",
   "metadata": {},
   "outputs": [],
   "source": [
    "experiment_truth = {bs:baseline(molecular_distances, basis_set=bs) for bs in basis_sets}\n",
    "experiment_truth"
   ]
  },
  {
   "cell_type": "code",
   "execution_count": null,
   "id": "364d22f0",
   "metadata": {},
   "outputs": [],
   "source": [
    "experiment_approximation = {bs:baseline(molecular_distances, basis_set=bs, numerical_method=\"hf\") for bs in basis_sets}\n",
    "experiment_approximation"
   ]
  },
  {
   "cell_type": "markdown",
   "id": "8ba224b0",
   "metadata": {},
   "source": [
    "# Running the VQE and uploading the results\n",
    "For this demo, we will be using the `UCCSD` ansatz, with the `BFGS` optimizer. \n",
    "\n",
    "Note that at the time of QRE there is a bug with quantmark such that it can only add results from the `nelder-mead` optimizer. However, BFGS has an interesting behavior that I wanted to show at QRE and this replicates those results. To actually push to QuantMark, change the optimizer to `nelder-mead` and uncomment the calls using `qm_data`."
   ]
  },
  {
   "cell_type": "code",
   "execution_count": null,
   "id": "f180bc47",
   "metadata": {},
   "outputs": [],
   "source": [
    "def run_uccsd_vqe(molecules, trotter_steps, silent=True):\n",
    "    results = []\n",
    "    optimizer = \"BFGS\"\n",
    "    qm_data = get_tracker(optimizer) # Initializing the quantmark tracking\n",
    "    for i, molecule in enumerate(molecules):\n",
    "        print(str(i+1)+\"/\"+str(len(molecules)), end=\"\\t\")\n",
    "        print(\"Creating the Hamiltonian.\", end=\"\\t\")\n",
    "        H = molecule.make_hamiltonian()\n",
    "        n_qubits = len(H.qubits)\n",
    "        print(\"Creating ansatz.\", end=\"\\t\")\n",
    "        U = molecule.make_uccsd_ansatz(trotter_steps)\n",
    "        E = tq.ExpectationValue(H=H, U=U)\n",
    "        variables = {k:0.0 for k in U.extract_variables()}\n",
    "        print(\"Optimizing\", str(len(variables)), \"vars.\", end=\"\\t\")\n",
    "        result = tq.minimize(objective=E, method=optimizer, initial_values=variables, silent=silent)\n",
    "        print()\n",
    "        result.depth = U.depth\n",
    "        result.n_qubits = n_qubits\n",
    "        results.append(result)\n",
    "        qm_data.add_run(result, molecule, H, U) # Adding the intermediate result\n",
    "    print(\"Done\")\n",
    "    qm_data.push() # Push the results to the server\n",
    "    #qm_data.save() # Save the data (a JSON file).\n",
    "    return results\n",
    "\n",
    "all_results = {\" \".join([bs, tf]):[] for bs, tf in itertools.product(basis_sets, transformations)}\n",
    "for bs, tf in itertools.product(basis_sets, transformations):\n",
    "    all_results[\" \".join([bs, tf])] = run_uccsd_vqe(molecules[\" \".join([bs, tf])], 2)"
   ]
  },
  {
   "cell_type": "markdown",
   "id": "ad5f0900",
   "metadata": {},
   "source": [
    "# Plotting results to be shown on the Quantmark website\n",
    "\n"
   ]
  },
  {
   "cell_type": "markdown",
   "id": "6c31d818",
   "metadata": {},
   "source": [
    "## Normal energy curve against baselines"
   ]
  },
  {
   "cell_type": "code",
   "execution_count": null,
   "id": "44103bc7",
   "metadata": {},
   "outputs": [],
   "source": [
    "for i, bs in enumerate(basis_sets):\n",
    "    plt.figure(figsize=(12,6), dpi=80)\n",
    "    # Plot the gold standard baseline\n",
    "    plt.plot(molecular_distances, ground_truth, marker=\"s\", label=\"Gold Standard: def2-QZVPPD\")\n",
    "    plt.plot(molecular_distances, experiment_truth[bs], marker=\"X\", label=\"FCI: \"+bs)\n",
    "    plt.plot(molecular_distances, experiment_approximation[bs], marker=\"x\", label=\"HF: \"+bs)\n",
    "    for j, tf in enumerate(transformations):\n",
    "        plt.plot(molecular_distances, [result.energy for result in all_results[\" \".join([bs, tf])]], marker=f\"{j*(i+1)+(i+1)}\", label=\"UCCSD: \"+bs+\" \"+ tf)\n",
    "    \n",
    "    plt.ylim([-1.2, -1.])\n",
    "    plt.legend()\n",
    "    plt.show()"
   ]
  },
  {
   "cell_type": "markdown",
   "id": "bd65e1f1",
   "metadata": {},
   "source": [
    "# Energy curves versus each other with \"gold standard\""
   ]
  },
  {
   "cell_type": "code",
   "execution_count": null,
   "id": "aad94fff",
   "metadata": {},
   "outputs": [],
   "source": [
    "plt.figure(figsize=(12,6), dpi=80)\n",
    "# Plot the gold standard baseline\n",
    "plt.plot(molecular_distances, ground_truth, marker=\"s\", label=\"Gold Standard\")\n",
    "for i, bs in enumerate(basis_sets):\n",
    "    plt.plot(molecular_distances, experiment_truth[bs], marker=\"X\", label=\"FCI: \"+bs)\n",
    "    for j, tf in enumerate(transformations):\n",
    "        plt.plot(molecular_distances, [result.energy for result in all_results[\" \".join([bs, tf])]], marker=f\"{j*(i+1)+(i+1)}\", label=\"UCCSD: \"+bs+\" \"+ tf)\n",
    "\n",
    "plt.ylim([-1.2, -1.])\n",
    "plt.legend()\n",
    "plt.show()"
   ]
  },
  {
   "cell_type": "markdown",
   "id": "82de1510",
   "metadata": {},
   "source": [
    "## Error versus circuit depth\n",
    "Depth determined by Tequila's `QCircuit.depth` property."
   ]
  },
  {
   "cell_type": "code",
   "execution_count": null,
   "id": "38001a35",
   "metadata": {},
   "outputs": [],
   "source": [
    "bond_distance = np.argmin(ground_truth)\n",
    "truth = ground_truth[bond_distance]\n",
    "for bs in basis_sets:\n",
    "    plt.figure(figsize=(12,6))\n",
    "    fci_line = experiment_truth[bs][bond_distance] - truth\n",
    "    hf_line = experiment_approximation[bs][bond_distance] - truth\n",
    "    plt.axvline(x=fci_line)\n",
    "    plt.axvline(x=hf_line)\n",
    "    for tf in transformations:\n",
    "        depth = all_results[\" \".join([bs, tf])][bond_distance].depth\n",
    "        error = all_results[\" \".join([bs, tf])][bond_distance].energy - truth\n",
    "        plt.scatter([error], [depth], label=\"UCCSD: \"+bs+\" \"+ tf)\n",
    "    \n",
    "    plt.legend()\n",
    "    plt.show()"
   ]
  },
  {
   "cell_type": "markdown",
   "id": "61755186",
   "metadata": {},
   "source": [
    "# Leaderboard tables\n",
    "Preprocessing first"
   ]
  },
  {
   "cell_type": "code",
   "execution_count": null,
   "id": "90bc3d92",
   "metadata": {},
   "outputs": [],
   "source": [
    "import pandas as pd"
   ]
  },
  {
   "cell_type": "code",
   "execution_count": null,
   "id": "368f2ce3",
   "metadata": {},
   "outputs": [],
   "source": [
    "df = pd.DataFrame([{\"name\":k, \n",
    "                    \"energies\": [r.energy for r in v],\n",
    "                    \"depth\": [r.depth for r in v],\n",
    "                    \"distances\": molecular_distances,\n",
    "                    \"molecule\": \"H2\",\n",
    "                    \"min distances\": molecular_distances[np.argmin([r.energy for r in v])],\n",
    "                    \"min energy\": np.min([r.energy for r in v]),\n",
    "                    \"error wrt fci\": [x1.energy-x2 for x1,x2 in zip(v, experiment_truth[k.split(\" \")[0]])],\n",
    "                    \"error wrt hf\": [x1.energy-x2 for x1,x2 in zip(v, experiment_approximation[k.split(\" \")[0]])],\n",
    "                    \"error wrt gold standard\": [x1.energy-x2 for x1,x2 in zip(v, ground_truth)],\n",
    "                    \"basis set\": k.split(\" \")[0],\n",
    "                    \"transformation\": k.split(\" \")[1],\n",
    "                    \"#qubits\": v[0].n_qubits\n",
    "                   } for k,v in all_results.items()])\n",
    "df.set_index(\"name\",inplace=True)"
   ]
  },
  {
   "cell_type": "markdown",
   "id": "29db0949",
   "metadata": {},
   "source": [
    "\n",
    "## Lowest energy found"
   ]
  },
  {
   "cell_type": "code",
   "execution_count": null,
   "id": "cb7a65c6",
   "metadata": {},
   "outputs": [],
   "source": [
    "df.sort_values(\"min energy\")[[\"molecule\", \"basis set\", \"transformation\", \"#qubits\", \"min energy\"]]"
   ]
  },
  {
   "cell_type": "markdown",
   "id": "f4c6dbef",
   "metadata": {},
   "source": [
    "## Closest minimum to \"gold standard\" minimal energy bond distance"
   ]
  },
  {
   "cell_type": "code",
   "execution_count": null,
   "id": "a1a512fd",
   "metadata": {},
   "outputs": [],
   "source": [
    "true_bond_distance = molecular_distances[np.argmin(ground_truth)]\n",
    "df.sort_values(\"min distances\", key=lambda x:x-true_bond_distance)[[\"molecule\", \"basis set\", \"transformation\", \"#qubits\", \"min energy\", \"min distances\"]]"
   ]
  },
  {
   "cell_type": "markdown",
   "id": "80d5d0de",
   "metadata": {},
   "source": [
    "## Smallest variance in error wrt gold standard"
   ]
  },
  {
   "cell_type": "code",
   "execution_count": null,
   "id": "32b61275",
   "metadata": {},
   "outputs": [],
   "source": [
    "df[\"variance\"] = [np.var(x) for x in df[\"error wrt gold standard\"]]\n",
    "df.sort_values(\"variance\")[[\"molecule\", \"basis set\", \"transformation\", \"#qubits\", \"min energy\", \"variance\"]]"
   ]
  }
 ],
 "metadata": {
  "kernelspec": {
   "name": "python3",
   "display_name": "Python 3.7.10 64-bit ('ymp': conda)"
  },
  "language_info": {
   "codemirror_mode": {
    "name": "ipython",
    "version": 3
   },
   "file_extension": ".py",
   "mimetype": "text/x-python",
   "name": "python",
   "nbconvert_exporter": "python",
   "pygments_lexer": "ipython3",
   "version": "3.7.10"
  },
  "interpreter": {
   "hash": "d68618e81ce4564476ff2a961696457ff9d353e9cbfe858101e9f152e3783619"
  }
 },
 "nbformat": 4,
 "nbformat_minor": 5
}