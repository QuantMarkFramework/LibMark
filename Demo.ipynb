{
 "cells": [
  {
   "cell_type": "markdown",
   "id": "52de1789",
   "metadata": {},
   "source": [
    "# Quantum Resource Estimation 2021 Demo\n",
    "This file contains example code and explanation of the Quantmark VQE benchmarking framework with annotation of how it works now, and what we want to add in the future.\n",
    "\n",
    "DISCLAIMER: The package is still in very active development and might not work on every device. This demo is meant as a show of progress and is not yet ready for use."
   ]
  },
  {
   "cell_type": "markdown",
   "id": "d3e7e8b8",
   "metadata": {},
   "source": [
    "### Add package to PYTHONPATH"
   ]
  },
  {
   "cell_type": "markdown",
   "id": "be41584f",
   "metadata": {},
   "source": [
    "The package does not yet have an installer, so let's just add it to our path for now."
   ]
  },
  {
   "cell_type": "code",
   "execution_count": 4,
   "id": "0f7f161f",
   "metadata": {},
   "outputs": [],
   "source": [
    "import os, sys\n",
    "\n",
    "sys.path.append(os.getcwd())"
   ]
  },
  {
   "cell_type": "markdown",
   "id": "974bc341",
   "metadata": {},
   "source": [
    "### Imports"
   ]
  },
  {
   "cell_type": "code",
   "execution_count": 5,
   "id": "6f616029",
   "metadata": {},
   "outputs": [],
   "source": [
    "from quantmark import Qresult\n",
    "import tequila as tq\n",
    "import numpy as np\n",
    "import matplotlib.pyplot as plt\n",
    "import itertools"
   ]
  },
  {
   "cell_type": "markdown",
   "id": "cf617584",
   "metadata": {},
   "source": [
    "# Create hydrogen molecule\n",
    "Other molecules works in a similar fashion. We focus on hydrogen for now since this is a demo.\n",
    "\n",
    "We use the Tequila library for representing the molecule, because it works together with various established libraries and it allows us to abstract away from the chemical details of VQE and focus on the algorithmic structure. \n",
    "\n",
    "Moreover, it gives us a unified representation of the molecules, hamiltonians, circuits, and optimizers, such that identifying the difference between various VQE algorithms is more easily identified."
   ]
  },
  {
   "cell_type": "code",
   "execution_count": 11,
   "id": "842b9c65",
   "metadata": {},
   "outputs": [],
   "source": [
    "def create_H2(R, **kwargs): \n",
    "    geometry = f'H 0.0 0.0 0.0\\nH 0.0 0.0 {R}'\n",
    "    return tq.chemistry.Molecule(geometry=geometry, **kwargs)"
   ]
  },
  {
   "cell_type": "markdown",
   "id": "528de566",
   "metadata": {},
   "source": [
    "# Defining the 4 experiments\n",
    "Next, we define the parameters we use for our experiments. We want to test 2 basis_sets and 2 transformations. With the chosen configurations, we will obtain circuits with different amounts of qubits for the hydrogen molecules. \n",
    "\n",
    "The idea is that the real-world molecule with bond distance `r` should have a particular amount of energy, regardless of our choice of basis set or transformation. However, our choices will result in 2, 4, 6, or 8 qubits, depending on the choices made. This results in a different circuit and thus a different VQE result, eventhough the molecule that is being simulated is exactly the same."
   ]
  },
  {
   "cell_type": "code",
   "execution_count": 16,
   "id": "1cd018ba",
   "metadata": {},
   "outputs": [],
   "source": [
    "# Create the molecules\n",
    "basis_sets = [\"sto-3g\", \"6-31g\"]\n",
    "transformations = [\"bravyi-kitaev\", \"tapered_bravyi_kitaev\"]\n",
    "step = 0.1\n",
    "molecular_distances = np.arange(.0 + step, 1.5 + step, step)"
   ]
  },
  {
   "cell_type": "code",
   "execution_count": 21,
   "id": "2f5802db",
   "metadata": {},
   "outputs": [],
   "source": [
    "molecules = {\" \".join([bs, tf]):[create_H2(r, basis_set=bs, transformation=tf) for r in molecular_distances] \n",
    "             for bs, tf in itertools.product(basis_sets, transformations)}"
   ]
  },
  {
   "cell_type": "markdown",
   "id": "799e4b9f",
   "metadata": {},
   "source": [
    "# Calculating baseline energies\n",
    "Each choice of basis set results in a slightly different energy curve for the same hydrogen molecule. This is because some basis sets describe all the interacting factors within the molecule more accurately than others. Of course, a more detailed description would result in more classical compute time and possibly more qubits on the system, hence most research is done using `STO-3G` since that basis set can be represented with the least qubits.\n",
    "\n",
    "For fair comparisons of any VQE algorithm simulating the same molecule, we define a \"gold standard\" baseline. This is the energy curve that would be obtained with the most accurate classical numerical method currently available. This is not just the `fci` method for taking into account the full configuration interaction between the particles in the molecule, but also the most accurate basis set (we found `\"def2-QZVPPD\"`, please let me know if there is something better). Moreover, the baseline will consider the full active space of the molecule, so the core remains unfrozen and no electrons are ignored.\n",
    "\n",
    "Ofcourse, this doesn't give enough insight into how the VQE is performing with respect its classical counter part because the VQE is probably using a completely different basis set that is much less accurate. For this purpuse, we also introduce the `experiment_truth`, this is the `fci` energy of the same molecule under the same restrictions as the VQE (i.e. the same basis_set, active space, etc.). This is the theoretical optimum of the VQE performance. If it needs to be more accurate, you would need a different basis_set or more qubits to represent all the electrons.\n",
    "\n",
    "Lastly, we want to introduce an upperbound for the VQE performance where we can say for certain that the algorithm is performing poorly. For this, we use the `hf` method. The Hartree-fock method for calculating the molecular energy is a rather crude approximation of the energy that only takes into account a single slater determinant. As such, it doesn't take into account the interactions between the electrons in the molecule, which makes the calculations much simpler numerically, but the resulting energy is not very accurately. A good VQE algorithm should at least be able to take into account the interactions between electrons. We call this baseline the `experiment_approximation` and it is the same as the experiment_truth except that is using Hartree-Fock instead of the full configuration interaction as numerical method."
   ]
  },
  {
   "cell_type": "code",
   "execution_count": 15,
   "id": "b31df008",
   "metadata": {},
   "outputs": [],
   "source": [
    "def gold_standard(distances):\n",
    "    return baseline(distances, \"def2-QZVPPD\")\n",
    "    \n",
    "def baseline(distances, basis_set, numerical_method=\"fci\"):\n",
    "    return [create_H2(r, basis_set=\"def2-QZVPPD\").compute_energy(numerical_method) for r in distances]"
   ]
  },
  {
   "cell_type": "code",
   "execution_count": 19,
   "id": "387279a9",
   "metadata": {},
   "outputs": [
    {
     "data": {
      "text/plain": [
       "[2.4832281428702565,\n",
       " 0.0070204576626329285,\n",
       " -0.700242863196946,\n",
       " -0.9809447180873221,\n",
       " -1.103495567157565,\n",
       " -1.1554296976732905,\n",
       " -1.1726207581212915,\n",
       " -1.1719086561941543,\n",
       " -1.1618783799179462,\n",
       " -1.1472116880772685,\n",
       " -1.1305784577760987,\n",
       " -1.1135470606455158,\n",
       " -1.0970553900668067,\n",
       " -1.081663458927422,\n",
       " -1.0676938976979766]"
      ]
     },
     "execution_count": 19,
     "metadata": {},
     "output_type": "execute_result"
    }
   ],
   "source": [
    "ground_truth = gold_standard(molecular_distances)\n",
    "ground_truth"
   ]
  },
  {
   "cell_type": "code",
   "execution_count": 17,
   "id": "390d4a4e",
   "metadata": {},
   "outputs": [
    {
     "data": {
      "text/plain": [
       "{'sto-3g': [2.4832281428705083,\n",
       "  0.007020457663510449,\n",
       "  -0.7002428631962021,\n",
       "  -0.9809447180873243,\n",
       "  -1.103495567157565,\n",
       "  -1.1554296976729574,\n",
       "  -1.172620758121339,\n",
       "  -1.1719086561941543,\n",
       "  -1.1618783799179475,\n",
       "  -1.1472116880772611,\n",
       "  -1.130578457776084,\n",
       "  -1.1135470606455198,\n",
       "  -1.0970553900668043,\n",
       "  -1.0816634589274265,\n",
       "  -1.0676938976979757],\n",
       " '6-31g': [2.483228142870482,\n",
       "  0.007020457663421631,\n",
       "  -0.7002428631959507,\n",
       "  -0.9809447180867119,\n",
       "  -1.103495567157566,\n",
       "  -1.1554296976734277,\n",
       "  -1.172620758121339,\n",
       "  -1.1719086561942027,\n",
       "  -1.1618783799179462,\n",
       "  -1.1472116880772611,\n",
       "  -1.1305784577760876,\n",
       "  -1.1135470606455187,\n",
       "  -1.0970553900668023,\n",
       "  -1.081663458927422,\n",
       "  -1.0676938976979766]}"
      ]
     },
     "execution_count": 17,
     "metadata": {},
     "output_type": "execute_result"
    }
   ],
   "source": [
    "experiment_truth = {bs:baseline(molecular_distances, basis_set=bs) for bs in basis_sets}\n",
    "experiment_truth"
   ]
  },
  {
   "cell_type": "code",
   "execution_count": 18,
   "id": "9d38d908",
   "metadata": {},
   "outputs": [
    {
     "data": {
      "text/plain": [
       "{'sto-3g': [2.5214170199240216,\n",
       "  0.045763856534167924,\n",
       "  -0.661558784662049,\n",
       "  -0.9424334409666507,\n",
       "  -1.064869797930746,\n",
       "  -1.1163487512431973,\n",
       "  -1.1327453984944498,\n",
       "  -1.130854719696118,\n",
       "  -1.119249325983519,\n",
       "  -1.1025764594670722,\n",
       "  -1.0834608246367243,\n",
       "  -1.0634232652500468,\n",
       "  -1.0433556220180173,\n",
       "  -1.0237798159149027,\n",
       "  -1.004995582191915],\n",
       " '6-31g': [2.5214170199240344,\n",
       "  0.04576385653418913,\n",
       "  -0.6615587846620539,\n",
       "  -0.9424334409666507,\n",
       "  -1.064869797930739,\n",
       "  -1.1163487512431929,\n",
       "  -1.1327453984944629,\n",
       "  -1.1308547196961227,\n",
       "  -1.1192493259835237,\n",
       "  -1.102576459467071,\n",
       "  -1.0834608246367208,\n",
       "  -1.0634232652500495,\n",
       "  -1.043355622018018,\n",
       "  -1.0237798159149032,\n",
       "  -1.0049955821919168]}"
      ]
     },
     "execution_count": 18,
     "metadata": {},
     "output_type": "execute_result"
    }
   ],
   "source": [
    "experiment_approximation = {bs:baseline(molecular_distances, basis_set=bs, numerical_method=\"hf\") for bs in basis_sets}\n",
    "experiment_approximation"
   ]
  },
  {
   "cell_type": "markdown",
   "id": "17ab7d5d",
   "metadata": {},
   "source": [
    "# Running the VQE and uploading the results\n",
    "For this demo, we will be using the `UCCSD` ansatz, with the `Nelder-mead` optimizer"
   ]
  },
  {
   "cell_type": "code",
   "execution_count": null,
   "id": "eb033e67",
   "metadata": {},
   "outputs": [
    {
     "name": "stdout",
     "output_type": "stream",
     "text": [
      "1/15\tCreating the Hamiltonian.\tCreating ansatz.\tOptimizing 1 vars.\t\n",
      "2/15\tCreating the Hamiltonian.\tCreating ansatz.\tOptimizing 1 vars.\t\n",
      "3/15\tCreating the Hamiltonian.\tCreating ansatz.\tOptimizing 1 vars.\t\n",
      "4/15\tCreating the Hamiltonian.\tCreating ansatz.\tOptimizing 1 vars.\t\n",
      "5/15\tCreating the Hamiltonian.\tCreating ansatz.\tOptimizing 1 vars.\t\n",
      "6/15\tCreating the Hamiltonian.\tCreating ansatz.\tOptimizing 1 vars.\t\n",
      "7/15\tCreating the Hamiltonian.\tCreating ansatz.\tOptimizing 1 vars.\t\n",
      "8/15\tCreating the Hamiltonian.\tCreating ansatz.\tOptimizing 1 vars.\t\n",
      "9/15\tCreating the Hamiltonian.\tCreating ansatz.\tOptimizing 1 vars.\t\n",
      "10/15\tCreating the Hamiltonian.\tCreating ansatz.\tOptimizing 1 vars.\t\n",
      "11/15\tCreating the Hamiltonian.\tCreating ansatz.\tOptimizing 1 vars.\t\n",
      "12/15\tCreating the Hamiltonian.\tCreating ansatz.\tOptimizing 1 vars.\t\n",
      "13/15\tCreating the Hamiltonian.\tCreating ansatz.\tOptimizing 1 vars.\t\n",
      "14/15\tCreating the Hamiltonian.\tCreating ansatz.\tOptimizing 1 vars.\t\n",
      "15/15\tCreating the Hamiltonian.\tCreating ansatz.\tOptimizing 1 vars.\t\n",
      "Done\n",
      "1/15\tCreating the Hamiltonian.\tCreating ansatz.\tOptimizing 1 vars.\t\n",
      "2/15\tCreating the Hamiltonian.\tCreating ansatz.\tOptimizing 1 vars.\t\n",
      "3/15\tCreating the Hamiltonian.\tCreating ansatz.\tOptimizing 1 vars.\t\n",
      "4/15\tCreating the Hamiltonian.\tCreating ansatz.\tOptimizing 1 vars.\t\n",
      "5/15\tCreating the Hamiltonian.\tCreating ansatz.\tOptimizing 1 vars.\t\n",
      "6/15\tCreating the Hamiltonian.\tCreating ansatz.\tOptimizing 1 vars.\t\n",
      "7/15\tCreating the Hamiltonian.\tCreating ansatz.\tOptimizing 1 vars.\t\n",
      "8/15\tCreating the Hamiltonian.\tCreating ansatz.\tOptimizing 1 vars.\t\n",
      "9/15\tCreating the Hamiltonian.\tCreating ansatz.\tOptimizing 1 vars.\t\n",
      "10/15\tCreating the Hamiltonian.\tCreating ansatz.\tOptimizing 1 vars.\t\n",
      "11/15\tCreating the Hamiltonian.\tCreating ansatz.\tOptimizing 1 vars.\t\n",
      "12/15\tCreating the Hamiltonian.\tCreating ansatz.\tOptimizing 1 vars.\t\n",
      "13/15\tCreating the Hamiltonian.\tCreating ansatz.\tOptimizing 1 vars.\t\n",
      "14/15\tCreating the Hamiltonian.\tCreating ansatz.\tOptimizing 1 vars.\t\n",
      "15/15\tCreating the Hamiltonian.\tCreating ansatz.\tOptimizing 1 vars.\t\n",
      "Done\n",
      "1/15\tCreating the Hamiltonian.\tCreating ansatz.\tOptimizing 3 vars.\t\n",
      "2/15\tCreating the Hamiltonian.\tCreating ansatz.\tOptimizing 3 vars.\t\n",
      "3/15\tCreating the Hamiltonian.\tCreating ansatz.\tOptimizing 3 vars.\t\n",
      "4/15\tCreating the Hamiltonian.\tCreating ansatz.\tOptimizing 3 vars.\t\n",
      "5/15\tCreating the Hamiltonian.\tCreating ansatz.\tOptimizing 3 vars.\t\n",
      "6/15\tCreating the Hamiltonian.\tCreating ansatz.\tOptimizing 3 vars.\t\n",
      "7/15\tCreating the Hamiltonian.\tCreating ansatz.\tOptimizing 3 vars.\t\n",
      "8/15\tCreating the Hamiltonian.\tCreating ansatz.\tOptimizing 3 vars.\t\n",
      "9/15\tCreating the Hamiltonian.\tCreating ansatz.\tOptimizing 3 vars.\t\n",
      "10/15\tCreating the Hamiltonian.\tCreating ansatz.\tOptimizing 3 vars.\t\n",
      "11/15\tCreating the Hamiltonian.\tCreating ansatz.\tOptimizing 3 vars.\t\n",
      "12/15\tCreating the Hamiltonian.\tCreating ansatz.\tOptimizing 3 vars.\t\n",
      "13/15\tCreating the Hamiltonian.\tCreating ansatz.\tOptimizing 3 vars.\t\n",
      "14/15\tCreating the Hamiltonian.\tCreating ansatz.\tOptimizing 3 vars.\t\n",
      "15/15\tCreating the Hamiltonian.\tCreating ansatz.\tOptimizing 3 vars.\t\n",
      "Done\n",
      "1/15\tCreating the Hamiltonian.\tCreating ansatz.\tOptimizing 3 vars.\t\n",
      "2/15\tCreating the Hamiltonian.\tCreating ansatz.\tOptimizing 3 vars.\t"
     ]
    }
   ],
   "source": [
    "def run_uccsd_vqe(molecules, trotter_steps, silent=True):\n",
    "    results = []\n",
    "    optimizer = \"Nelder-mead\"\n",
    "    qm_data = Qresult(optimizer)\n",
    "    for i, molecule in enumerate(molecules):\n",
    "        print(str(i+1)+\"/\"+str(len(molecules)), end=\"\\t\")\n",
    "        print(\"Creating the Hamiltonian.\", end=\"\\t\")\n",
    "        H = molecule.make_hamiltonian()\n",
    "        n_qubits = len(H.qubits)\n",
    "        print(\"Creating ansatz.\", end=\"\\t\")\n",
    "        U = molecule.make_uccsd_ansatz(trotter_steps)\n",
    "        #print(\"Creating objective function\")\n",
    "        E = tq.ExpectationValue(H=H, U=U)\n",
    "        variables = {k:0.0 for k in U.extract_variables()}\n",
    "        print(\"Optimizing\", str(len(variables)), \"vars.\", end=\"\\t\")\n",
    "        result = tq.minimize(objective=E, method=optimizer, initial_values=variables, silent=silent)\n",
    "        print()\n",
    "        results.append(result)\n",
    "        qm_data.add_run(result, molecule, H, U)\n",
    "    print(\"Done\")\n",
    "    #qm_data.push()\n",
    "    return results\n",
    "\n",
    "all_results = {\" \".join([bs, tf]):[] for bs, tf in itertools.product(basis_sets, transformations)}\n",
    "for bs, tf in itertools.product(basis_sets, transformations):\n",
    "    all_results[\" \".join([bs, tf])] = run_uccsd_vqe(molecules[\" \".join([bs, tf])], 2)"
   ]
  },
  {
   "cell_type": "markdown",
   "id": "6136e028",
   "metadata": {},
   "source": [
    "# Plotting results to be shown on the Quantmark website\n",
    "\n"
   ]
  }
 ],
 "metadata": {
  "kernelspec": {
   "display_name": "Python 3",
   "language": "python",
   "name": "python3"
  },
  "language_info": {
   "codemirror_mode": {
    "name": "ipython",
    "version": 3
   },
   "file_extension": ".py",
   "mimetype": "text/x-python",
   "name": "python",
   "nbconvert_exporter": "python",
   "pygments_lexer": "ipython3",
   "version": "3.7.10"
  }
 },
 "nbformat": 4,
 "nbformat_minor": 5
}
